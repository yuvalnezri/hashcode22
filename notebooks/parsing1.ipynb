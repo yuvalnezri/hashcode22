{
 "cells": [
  {
   "cell_type": "code",
   "execution_count": 16,
   "id": "1913a42e",
   "metadata": {},
   "outputs": [],
   "source": [
    "from pprint import pprint\n",
    "\n",
    "input_path = '../input/a_an_example.in.txt'\n",
    "input_f = open(input_path,'r')\n",
    "\n",
    "def parse_row(fmt):\n",
    "    out = []\n",
    "    row = input_f.readline().strip().split(' ')\n",
    "    for c,v in zip(fmt, row):\n",
    "        if c=='i':\n",
    "            out.append(int(v))\n",
    "        elif c=='s':\n",
    "            out.append(v.strip())\n",
    "        else:\n",
    "            raise ValueError(f'unknown format char \"{c}\"')\n",
    "    return out\n",
    "\n",
    "C, P = parse_row('ii')\n",
    "# parse contributors\n",
    "contributor_skills = {}\n",
    "for contributor_index in range(C):\n",
    "    contributor_name, N = parse_row('si')\n",
    "    contributor_skills[contributor_name] = {}\n",
    "    # parse skills\n",
    "    for i in range(N):\n",
    "        skill_name, L = parse_row('si')\n",
    "        contributor_skills[contributor_name][skill_name] = L\n",
    "\n",
    "# parse projects\n",
    "projects = {}\n",
    "for project_index in range(P):\n",
    "    project_name, D, S, B, R = parse_row('siiii')\n",
    "    projects[project_name] = {\n",
    "        'duration': D,\n",
    "        'score': S,\n",
    "        'best_before': B,\n",
    "        'num_roles': R,\n",
    "        'roles': [],\n",
    "    }\n",
    "    for role_index in range(R):\n",
    "        skill_name, required_level = parse_row('si')\n",
    "        projects[project_name]['roles'].append(\n",
    "            (skill_name, required_level)\n",
    "        )"
   ]
  },
  {
   "cell_type": "code",
   "execution_count": 17,
   "id": "9ed4cf56",
   "metadata": {},
   "outputs": [
    {
     "data": {
      "text/plain": [
       "{'Anna': {'C++': 2}, 'Bob': {'HTML': 5, 'CSS': 5}, 'Maria': {'Python': 3}}"
      ]
     },
     "execution_count": 17,
     "metadata": {},
     "output_type": "execute_result"
    }
   ],
   "source": [
    "contributor_skills"
   ]
  },
  {
   "cell_type": "code",
   "execution_count": 18,
   "id": "34def35c",
   "metadata": {},
   "outputs": [
    {
     "data": {
      "text/plain": [
       "{'Logging': {'duration': 5,\n",
       "  'score': 10,\n",
       "  'best_before': 5,\n",
       "  'num_roles': 1,\n",
       "  'roles': [('C++', 3)]},\n",
       " 'WebServer': {'duration': 7,\n",
       "  'score': 10,\n",
       "  'best_before': 7,\n",
       "  'num_roles': 2,\n",
       "  'roles': [('HTML', 3), ('C++', 2)]},\n",
       " 'WebChat': {'duration': 10,\n",
       "  'score': 20,\n",
       "  'best_before': 20,\n",
       "  'num_roles': 2,\n",
       "  'roles': [('Python', 3), ('HTML', 3)]}}"
      ]
     },
     "execution_count": 18,
     "metadata": {},
     "output_type": "execute_result"
    }
   ],
   "source": [
    "projects"
   ]
  },
  {
   "cell_type": "code",
   "execution_count": null,
   "id": "b3d360d2",
   "metadata": {},
   "outputs": [],
   "source": []
  }
 ],
 "metadata": {
  "kernelspec": {
   "display_name": "Python 3 (ipykernel)",
   "language": "python",
   "name": "python3"
  },
  "language_info": {
   "codemirror_mode": {
    "name": "ipython",
    "version": 3
   },
   "file_extension": ".py",
   "mimetype": "text/x-python",
   "name": "python",
   "nbconvert_exporter": "python",
   "pygments_lexer": "ipython3",
   "version": "3.8.12"
  }
 },
 "nbformat": 4,
 "nbformat_minor": 5
}
